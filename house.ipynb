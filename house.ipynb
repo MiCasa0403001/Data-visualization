{
 "cells": [
  {
   "cell_type": "code",
   "execution_count": 11,
   "metadata": {},
   "outputs": [],
   "source": [
    "import pandas as pd \n",
    "import numpy as np\n",
    "import matplotlib.pyplot as plt"
   ]
  },
  {
   "cell_type": "code",
   "execution_count": 12,
   "metadata": {},
   "outputs": [
    {
     "name": "stderr",
     "output_type": "stream",
     "text": [
      "c:\\Users\\Acer Nitro5\\anaconda3\\lib\\site-packages\\openpyxl\\worksheet\\_reader.py:312: UserWarning: Unknown extension is not supported and will be removed\n",
      "  warn(msg)\n"
     ]
    }
   ],
   "source": [
    "df = pd.read_excel('house_price_dống-da.xlsx')"
   ]
  },
  {
   "cell_type": "code",
   "execution_count": 13,
   "metadata": {},
   "outputs": [
    {
     "data": {
      "text/plain": [
       "Index(['title', 'address', 'area', 'price', 'postDate', 'land_certificate',\n",
       "       'house_direction', 'balcony_direction', 'toilet', 'bedroom', 'floor',\n",
       "       'type_of_land', 'street_name', 'ward_name', 'district_name',\n",
       "       'city_name', 'lat', 'long'],\n",
       "      dtype='object')"
      ]
     },
     "execution_count": 13,
     "metadata": {},
     "output_type": "execute_result"
    }
   ],
   "source": [
    "df.columns"
   ]
  },
  {
   "cell_type": "code",
   "execution_count": 14,
   "metadata": {},
   "outputs": [],
   "source": [
    "df = df[df['area'] > 0]"
   ]
  },
  {
   "cell_type": "code",
   "execution_count": 15,
   "metadata": {},
   "outputs": [],
   "source": [
    "df['price/m2'] = round(df['price'] / df['area'], 2)"
   ]
  },
  {
   "cell_type": "code",
   "execution_count": 16,
   "metadata": {},
   "outputs": [],
   "source": [
    "df['type_of_land'] = df['type_of_land'].str.replace('\\n ','')"
   ]
  },
  {
   "cell_type": "code",
   "execution_count": 17,
   "metadata": {},
   "outputs": [
    {
     "data": {
      "text/html": [
       "<div>\n",
       "<style scoped>\n",
       "    .dataframe tbody tr th:only-of-type {\n",
       "        vertical-align: middle;\n",
       "    }\n",
       "\n",
       "    .dataframe tbody tr th {\n",
       "        vertical-align: top;\n",
       "    }\n",
       "\n",
       "    .dataframe thead th {\n",
       "        text-align: right;\n",
       "    }\n",
       "</style>\n",
       "<table border=\"1\" class=\"dataframe\">\n",
       "  <thead>\n",
       "    <tr style=\"text-align: right;\">\n",
       "      <th></th>\n",
       "      <th>title</th>\n",
       "      <th>address</th>\n",
       "      <th>area</th>\n",
       "      <th>price</th>\n",
       "      <th>postDate</th>\n",
       "      <th>land_certificate</th>\n",
       "      <th>house_direction</th>\n",
       "      <th>balcony_direction</th>\n",
       "      <th>toilet</th>\n",
       "      <th>bedroom</th>\n",
       "      <th>floor</th>\n",
       "      <th>type_of_land</th>\n",
       "      <th>street_name</th>\n",
       "      <th>ward_name</th>\n",
       "      <th>district_name</th>\n",
       "      <th>city_name</th>\n",
       "      <th>lat</th>\n",
       "      <th>long</th>\n",
       "      <th>price/m2</th>\n",
       "    </tr>\n",
       "  </thead>\n",
       "  <tbody>\n",
       "    <tr>\n",
       "      <th>0</th>\n",
       "      <td>Bán nhà Trần Quang Diệu mới coong đẹp 50m2x6 t...</td>\n",
       "      <td>Đường Trần Quang Diệu, Phường Trung Liệt, Đốn...</td>\n",
       "      <td>50.0</td>\n",
       "      <td>14700.0</td>\n",
       "      <td>2021-01-01</td>\n",
       "      <td>Sổ đỏ</td>\n",
       "      <td>NaN</td>\n",
       "      <td>NaN</td>\n",
       "      <td>4.0</td>\n",
       "      <td>6.0</td>\n",
       "      <td>6.0</td>\n",
       "      <td>Bán nhà riêng</td>\n",
       "      <td>Đường Trần Quang Diệu</td>\n",
       "      <td>Phường Trung Liệt</td>\n",
       "      <td>Quận Đống Đa</td>\n",
       "      <td>Thành phố Hà Nội</td>\n",
       "      <td>21.015698</td>\n",
       "      <td>105.824583</td>\n",
       "      <td>294.00</td>\n",
       "    </tr>\n",
       "    <tr>\n",
       "      <th>1</th>\n",
       "      <td>Bán nhà mặt phố Tây Sơn - 6 tầng. Kinh doanh t...</td>\n",
       "      <td>Đường Tây Sơn, Phường Trung Liệt, Đống Đa, Hà...</td>\n",
       "      <td>35.0</td>\n",
       "      <td>12500.0</td>\n",
       "      <td>2021-02-19</td>\n",
       "      <td>Sổ đỏ</td>\n",
       "      <td>NaN</td>\n",
       "      <td>NaN</td>\n",
       "      <td>NaN</td>\n",
       "      <td>NaN</td>\n",
       "      <td>6.0</td>\n",
       "      <td>Bán nhà mặt phố</td>\n",
       "      <td>Phố Trung Liệt</td>\n",
       "      <td>Phường Trung Liệt</td>\n",
       "      <td>Quận Đống Đa</td>\n",
       "      <td>Thành phố Hà Nội</td>\n",
       "      <td>21.008930</td>\n",
       "      <td>105.824105</td>\n",
       "      <td>357.14</td>\n",
       "    </tr>\n",
       "    <tr>\n",
       "      <th>2</th>\n",
       "      <td>Bán nhà số 36 Đoàn Kết - phố Khâm Thiên - Đống...</td>\n",
       "      <td>Số 36 Đoàn Kết, Phố Khâm Thiên, Phường Thổ Qu...</td>\n",
       "      <td>57.0</td>\n",
       "      <td>4200.0</td>\n",
       "      <td>2021-03-10</td>\n",
       "      <td>Sổ đỏ</td>\n",
       "      <td>Nam</td>\n",
       "      <td>Nam</td>\n",
       "      <td>3.0</td>\n",
       "      <td>8.0</td>\n",
       "      <td>4.0</td>\n",
       "      <td>Bán nhà riêng</td>\n",
       "      <td>Phố Khâm Thiên</td>\n",
       "      <td>Phường Khâm Thiên</td>\n",
       "      <td>Quận Đống Đa</td>\n",
       "      <td>Thành phố Hà Nội</td>\n",
       "      <td>21.025208</td>\n",
       "      <td>105.833111</td>\n",
       "      <td>73.68</td>\n",
       "    </tr>\n",
       "    <tr>\n",
       "      <th>3</th>\n",
       "      <td>Bán nhà 6 tầng mới kinh doanh mặt ngõ 1194 Đườ...</td>\n",
       "      <td>Ngõ 1194, Đường Láng, Phường Láng Thượng, Đố...</td>\n",
       "      <td>62.0</td>\n",
       "      <td>11000.0</td>\n",
       "      <td>2021-03-13</td>\n",
       "      <td>Sổ đỏ</td>\n",
       "      <td>Đông</td>\n",
       "      <td>Đông-Nam</td>\n",
       "      <td>6.0</td>\n",
       "      <td>5.0</td>\n",
       "      <td>6.0</td>\n",
       "      <td>Bán nhà riêng</td>\n",
       "      <td>Đường Láng Thượng</td>\n",
       "      <td>Phường Láng Thượng</td>\n",
       "      <td>Quận Đống Đa</td>\n",
       "      <td>Thành phố Hà Nội</td>\n",
       "      <td>21.025379</td>\n",
       "      <td>105.801011</td>\n",
       "      <td>177.42</td>\n",
       "    </tr>\n",
       "    <tr>\n",
       "      <th>4</th>\n",
       "      <td>Bán nhà mặt phố Thái Hà 70m2, 5 tầng, 4.5m mặt...</td>\n",
       "      <td>Phố Thái Hà, Phường Trung Liệt, Đống Đa, Hà Nội</td>\n",
       "      <td>70.0</td>\n",
       "      <td>36000.0</td>\n",
       "      <td>2021-03-13</td>\n",
       "      <td>Sổ đỏ</td>\n",
       "      <td>NaN</td>\n",
       "      <td>NaN</td>\n",
       "      <td>NaN</td>\n",
       "      <td>6.0</td>\n",
       "      <td>5.0</td>\n",
       "      <td>Bán nhà mặt phố</td>\n",
       "      <td>Phố Trung Liệt</td>\n",
       "      <td>Phường Trung Liệt</td>\n",
       "      <td>Quận Đống Đa</td>\n",
       "      <td>Thành phố Hà Nội</td>\n",
       "      <td>21.009239</td>\n",
       "      <td>105.824230</td>\n",
       "      <td>514.29</td>\n",
       "    </tr>\n",
       "  </tbody>\n",
       "</table>\n",
       "</div>"
      ],
      "text/plain": [
       "                                               title  \\\n",
       "0  Bán nhà Trần Quang Diệu mới coong đẹp 50m2x6 t...   \n",
       "1  Bán nhà mặt phố Tây Sơn - 6 tầng. Kinh doanh t...   \n",
       "2  Bán nhà số 36 Đoàn Kết - phố Khâm Thiên - Đống...   \n",
       "3  Bán nhà 6 tầng mới kinh doanh mặt ngõ 1194 Đườ...   \n",
       "4  Bán nhà mặt phố Thái Hà 70m2, 5 tầng, 4.5m mặt...   \n",
       "\n",
       "                                             address  area    price  \\\n",
       "0  Đường Trần Quang Diệu, Phường Trung Liệt, Đốn...  50.0  14700.0   \n",
       "1  Đường Tây Sơn, Phường Trung Liệt, Đống Đa, Hà...  35.0  12500.0   \n",
       "2  Số 36 Đoàn Kết, Phố Khâm Thiên, Phường Thổ Qu...  57.0   4200.0   \n",
       "3  Ngõ 1194, Đường Láng, Phường Láng Thượng, Đố...  62.0  11000.0   \n",
       "4   Phố Thái Hà, Phường Trung Liệt, Đống Đa, Hà Nội  70.0  36000.0   \n",
       "\n",
       "    postDate land_certificate house_direction balcony_direction  toilet  \\\n",
       "0 2021-01-01            Sổ đỏ             NaN               NaN     4.0   \n",
       "1 2021-02-19            Sổ đỏ             NaN               NaN     NaN   \n",
       "2 2021-03-10            Sổ đỏ             Nam               Nam     3.0   \n",
       "3 2021-03-13            Sổ đỏ            Đông          Đông-Nam     6.0   \n",
       "4 2021-03-13            Sổ đỏ             NaN               NaN     NaN   \n",
       "\n",
       "   bedroom  floor     type_of_land            street_name           ward_name  \\\n",
       "0      6.0    6.0    Bán nhà riêng  Đường Trần Quang Diệu   Phường Trung Liệt   \n",
       "1      NaN    6.0  Bán nhà mặt phố         Phố Trung Liệt   Phường Trung Liệt   \n",
       "2      8.0    4.0    Bán nhà riêng         Phố Khâm Thiên   Phường Khâm Thiên   \n",
       "3      5.0    6.0    Bán nhà riêng      Đường Láng Thượng  Phường Láng Thượng   \n",
       "4      6.0    5.0  Bán nhà mặt phố         Phố Trung Liệt   Phường Trung Liệt   \n",
       "\n",
       "  district_name         city_name        lat        long  price/m2  \n",
       "0  Quận Đống Đa  Thành phố Hà Nội  21.015698  105.824583    294.00  \n",
       "1  Quận Đống Đa  Thành phố Hà Nội  21.008930  105.824105    357.14  \n",
       "2  Quận Đống Đa  Thành phố Hà Nội  21.025208  105.833111     73.68  \n",
       "3  Quận Đống Đa  Thành phố Hà Nội  21.025379  105.801011    177.42  \n",
       "4  Quận Đống Đa  Thành phố Hà Nội  21.009239  105.824230    514.29  "
      ]
     },
     "execution_count": 17,
     "metadata": {},
     "output_type": "execute_result"
    }
   ],
   "source": [
    "df.head()"
   ]
  },
  {
   "cell_type": "markdown",
   "metadata": {},
   "source": [
    "##### Vẽ biểu đồ phân tích mối liên hệ giữa diện tích với giá nhà, giữa số phòng ngủ với giá nhà, giữa số toilet với giá nhà."
   ]
  },
  {
   "cell_type": "code",
   "execution_count": 18,
   "metadata": {},
   "outputs": [],
   "source": [
    "#### Mối liên hệ giữa diện tích và giá nhà "
   ]
  },
  {
   "cell_type": "code",
   "execution_count": 32,
   "metadata": {},
   "outputs": [
    {
     "name": "stderr",
     "output_type": "stream",
     "text": [
      "No handles with labels found to put in legend.\n"
     ]
    },
    {
     "data": {
      "image/png": "[encoded data removed]",
      "text/plain": [
       "<Figure size 360x360 with 1 Axes>"
      ]
     },
     "metadata": {
      "needs_background": "light"
     },
     "output_type": "display_data"
    }
   ],
   "source": [
    "plt.title('Phân tích quan hệ diện tích với giá nhà', fontsize = 18)\n",
    "plt.rcParams['figure.figsize'] = 5,5\n",
    "plt.scatter(x = df['area'], y = df['price/m2'])\n",
    "plt.xlabel('area')\n",
    "plt.ylabel('price/m2')\n",
    "plt.legend()\n",
    "plt.show()\n"
   ]
  },
  {
   "cell_type": "code",
   "execution_count": 33,
   "metadata": {},
   "outputs": [],
   "source": [
    "#### Mối liên hệ giữa phòng ngủ và giá nhà "
   ]
  },
  {
   "cell_type": "code",
   "execution_count": 37,
   "metadata": {},
   "outputs": [
    {
     "name": "stderr",
     "output_type": "stream",
     "text": [
      "No handles with labels found to put in legend.\n"
     ]
    },
    {
     "data": {
      "image/png": "[encoded data removed]",
      "text/plain": [
       "<Figure size 360x360 with 1 Axes>"
      ]
     },
     "metadata": {
      "needs_background": "light"
     },
     "output_type": "display_data"
    }
   ],
   "source": [
    "plt.title('Phân tích liên hệ giữa phòng ngủ và giá nhà ', fontsize = 18)\n",
    "plt.rcParams['figure.figsize'] = 5,5\n",
    "plt.scatter(x = df['bedroom'], y = df['price/m2'], color='r')\n",
    "plt.scatter(x = df['toilet'], y = df['price/m2'], color='blue')\n",
    "plt.xlabel('area, bedroom, toilet')\n",
    "plt.ylabel('price/m2')\n",
    "plt.legend()\n",
    "plt.show()\n"
   ]
  },
  {
   "cell_type": "markdown",
   "metadata": {},
   "source": [
    "##### Vẽ biểu đồ so sánh giá nhà trung bình trên 1 m2 giữa các hình thức nhà (type_of_land)."
   ]
  },
  {
   "cell_type": "code",
   "execution_count": 41,
   "metadata": {},
   "outputs": [],
   "source": [
    "mean_price = df.groupby('type_of_land').agg(mean_price = ('price/m2','mean')).reset_index()"
   ]
  },
  {
   "cell_type": "code",
   "execution_count": 42,
   "metadata": {},
   "outputs": [
    {
     "data": {
      "text/html": [
       "<div>\n",
       "<style scoped>\n",
       "    .dataframe tbody tr th:only-of-type {\n",
       "        vertical-align: middle;\n",
       "    }\n",
       "\n",
       "    .dataframe tbody tr th {\n",
       "        vertical-align: top;\n",
       "    }\n",
       "\n",
       "    .dataframe thead th {\n",
       "        text-align: right;\n",
       "    }\n",
       "</style>\n",
       "<table border=\"1\" class=\"dataframe\">\n",
       "  <thead>\n",
       "    <tr style=\"text-align: right;\">\n",
       "      <th></th>\n",
       "      <th>type_of_land</th>\n",
       "      <th>mean_price</th>\n",
       "    </tr>\n",
       "  </thead>\n",
       "  <tbody>\n",
       "    <tr>\n",
       "      <th>0</th>\n",
       "      <td>Bán nhà mặt phố</td>\n",
       "      <td>364.232061</td>\n",
       "    </tr>\n",
       "    <tr>\n",
       "      <th>1</th>\n",
       "      <td>Bán nhà riêng</td>\n",
       "      <td>120.361342</td>\n",
       "    </tr>\n",
       "    <tr>\n",
       "      <th>2</th>\n",
       "      <td>Bất động sản khác</td>\n",
       "      <td>209.913889</td>\n",
       "    </tr>\n",
       "    <tr>\n",
       "      <th>3</th>\n",
       "      <td>Chung cư</td>\n",
       "      <td>26.826441</td>\n",
       "    </tr>\n",
       "    <tr>\n",
       "      <th>4</th>\n",
       "      <td>Tập thể, cư xá</td>\n",
       "      <td>33.353623</td>\n",
       "    </tr>\n",
       "    <tr>\n",
       "      <th>5</th>\n",
       "      <td>Đất thổ cư</td>\n",
       "      <td>133.153750</td>\n",
       "    </tr>\n",
       "  </tbody>\n",
       "</table>\n",
       "</div>"
      ],
      "text/plain": [
       "        type_of_land  mean_price\n",
       "0    Bán nhà mặt phố  364.232061\n",
       "1      Bán nhà riêng  120.361342\n",
       "2  Bất động sản khác  209.913889\n",
       "3           Chung cư   26.826441\n",
       "4     Tập thể, cư xá   33.353623\n",
       "5         Đất thổ cư  133.153750"
      ]
     },
     "execution_count": 42,
     "metadata": {},
     "output_type": "execute_result"
    }
   ],
   "source": [
    "mean_price"
   ]
  },
  {
   "cell_type": "code",
   "execution_count": 45,
   "metadata": {},
   "outputs": [
    {
     "data": {
      "image/png": "[encoded data removed]",
      "text/plain": [
       "<Figure size 360x360 with 1 Axes>"
      ]
     },
     "metadata": {
      "needs_background": "light"
     },
     "output_type": "display_data"
    }
   ],
   "source": [
    "plt. bar(mean_price['type_of_land'], mean_price['mean_price'])\n",
    "plt.xticks(rotation=75);"
   ]
  },
  {
   "cell_type": "markdown",
   "metadata": {},
   "source": [
    "##### Vẽ biểu đồ thể hiện tỉ lệ % bài đăng (bản ghi) giữa các hình thức nhà (type_of_land)."
   ]
  },
  {
   "cell_type": "code",
   "execution_count": 49,
   "metadata": {},
   "outputs": [
    {
     "data": {
      "image/png": "[encoded data removed]",
      "text/plain": [
       "<Figure size 360x360 with 1 Axes>"
      ]
     },
     "metadata": {},
     "output_type": "display_data"
    }
   ],
   "source": [
    "data = df['type_of_land'].value_counts()\n",
    "plt.title('Tỉ lệ phần trăm bài đăng giữa các hình thức nhà', fontsize = 14)\n",
    "plt.pie(x = data, labels = data.index, radius = 1.1);"
   ]
  },
  {
   "cell_type": "markdown",
   "metadata": {},
   "source": [
    "##### Vẽ biểu đồ thể hiện sự thay đổi giá nhà trung bình trên 1m2 theo số lượng phòng ngủ."
   ]
  },
  {
   "cell_type": "code",
   "execution_count": 64,
   "metadata": {},
   "outputs": [
    {
     "data": {
      "image/png": "[encoded data removed]",
      "text/plain": [
       "<Figure size 792x360 with 1 Axes>"
      ]
     },
     "metadata": {
      "needs_background": "light"
     },
     "output_type": "display_data"
    }
   ],
   "source": [
    "data = df.groupby('bedroom')['price/m2'].mean()\n",
    "plt.bar(x = data.index, height= data.values)\n",
    "plt.title('Sự thay đổi giá nhà trung bình trên 1m2 theo số phòng ngủ')\n",
    "plt.xlabel('num_bedroom')\n",
    "plt.ylabel('price/m2')\n",
    "plt.rcParams['figure.figsize'] = 15,5"
   ]
  },
  {
   "cell_type": "code",
   "execution_count": null,
   "metadata": {},
   "outputs": [],
   "source": []
  },
  {
   "cell_type": "code",
   "execution_count": null,
   "metadata": {},
   "outputs": [],
   "source": []
  }
 ],
 "metadata": {
  "interpreter": {
   "hash": "440c4360214cbd7cb3475a2b2e6c78f31c1d32bf5ea0dc5c31a0d7dd8338aeb9"
  },
  "kernelspec": {
   "display_name": "Python 3.9.7 ('base')",
   "language": "python",
   "name": "python3"
  },
  "language_info": {
   "codemirror_mode": {
    "name": "ipython",
    "version": 3
   },
   "file_extension": ".py",
   "mimetype": "text/x-python",
   "name": "python",
   "nbconvert_exporter": "python",
   "pygments_lexer": "ipython3",
   "version": "3.9.7"
  },
  "orig_nbformat": 4
 },
 "nbformat": 4,
 "nbformat_minor": 2
}
